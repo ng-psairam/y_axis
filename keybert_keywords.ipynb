{
 "cells": [
  {
   "cell_type": "code",
   "execution_count": null,
   "metadata": {},
   "outputs": [],
   "source": [
    "from keybert import KeyBERT\n",
    "\n",
    "# Load pre-trained KeyBERT model\n",
    "kw_model = KeyBERT('distilbert-base-nli-mean-tokens')\n",
    "\n",
    "# Function to extract keywords with tuned parameters\n",
    "def extract_keywords(text):\n",
    "    # Tune the parameters for better keyword extraction\n",
    "    keywords = kw_model.extract_keywords(\n",
    "        text,\n",
    "        keyphrase_ngram_range=(3,3),        # Consider unigrams, bigrams, and trigrams\n",
    "        stop_words='english',                # Use English stop words\n",
    "        use_mmr=True,                        # Use Maximal Marginal Relevance (MMR)\n",
    "        diversity=0.7,                       # Set diversity to balance relevance and diversity\n",
    "        top_n=20                        # Set diversity to balance relevance and diversity\n",
    "    )\n",
    "    return keywords\n",
    "    #return [kw[0] for kw in keywords]\n",
    "\n",
    "import json\n",
    "with open('updated_results_indeed.json', 'r') as file:\n",
    "    data = json.load(file)\n",
    "    text = data[0]['JobDescription']\n",
    "\n",
    "# Extract keywords\n",
    "keywords = extract_keywords(text)\n",
    "\n",
    "df=pd.DataFrame(keywords,columns=['Keywords','score'])\n",
    "df.to_excel('keywords.xlsx')\n",
    "\n",
    "# Print extracted keywords\n",
    "print(\"Extracted Keywords:\")\n",
    "for kw in keywords:\n",
    "    print(kw)\n"
   ]
  }
 ],
 "metadata": {
  "language_info": {
   "name": "python"
  }
 },
 "nbformat": 4,
 "nbformat_minor": 2
}
